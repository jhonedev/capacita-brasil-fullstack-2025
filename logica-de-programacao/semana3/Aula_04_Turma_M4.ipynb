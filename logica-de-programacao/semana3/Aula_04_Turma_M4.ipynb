{
  "nbformat": 4,
  "nbformat_minor": 0,
  "metadata": {
    "colab": {
      "provenance": []
    },
    "kernelspec": {
      "name": "python3",
      "display_name": "Python 3"
    },
    "language_info": {
      "name": "python"
    }
  },
  "cells": [
    {
      "cell_type": "markdown",
      "source": [
        "beecrowd | 1070\n",
        "Seis Números Ímpares"
      ],
      "metadata": {
        "id": "9XgXZZCkbdb6"
      }
    },
    {
      "cell_type": "code",
      "execution_count": null,
      "metadata": {
        "colab": {
          "base_uri": "https://localhost:8080/"
        },
        "id": "RAH8sVcaUnJ4",
        "outputId": "a6614693-531f-4a4f-ba52-ce966441cfdb"
      },
      "outputs": [
        {
          "output_type": "stream",
          "name": "stdout",
          "text": [
            "9\n",
            "9\n",
            "11\n",
            "13\n",
            "15\n",
            "17\n",
            "19\n"
          ]
        }
      ],
      "source": [
        "X = int( input() )\n",
        "\n",
        "for i in range(6):\n",
        "  if X % 2 == 0:\n",
        "    print( X + i*2+1 )\n",
        "  else:\n",
        "    print( X + i*2 )"
      ]
    },
    {
      "cell_type": "markdown",
      "source": [
        "beecrowd | 1132\n",
        "Múltiplos de 13"
      ],
      "metadata": {
        "id": "BRmv_pSKe27L"
      }
    },
    {
      "cell_type": "code",
      "source": [
        "X = int( input() )\n",
        "Y = int( input() )\n",
        "\n",
        "if X > Y:\n",
        "  X,Y = Y, X\n",
        "\n",
        "somatorio = 0\n",
        "\n",
        "for i in range(X, Y+1, +1):\n",
        "  if i % 13 != 0:\n",
        "    somatorio += i\n",
        "\n",
        "print(somatorio)"
      ],
      "metadata": {
        "colab": {
          "base_uri": "https://localhost:8080/"
        },
        "id": "y3z6edhJe3EZ",
        "outputId": "9f8032c5-b8e3-4cd6-b4bb-0bf3413e2801"
      },
      "execution_count": null,
      "outputs": [
        {
          "output_type": "stream",
          "name": "stdout",
          "text": [
            "200\n",
            "100\n",
            "100\n"
          ]
        }
      ]
    },
    {
      "cell_type": "markdown",
      "source": [
        "Função\n"
      ],
      "metadata": {
        "id": "QbuZ9oYVkb9C"
      }
    },
    {
      "cell_type": "code",
      "source": [
        "def bom_dia(  ):\n",
        "  print(\"Bom dia\")\n",
        "\n",
        "def soma2( num1, num2):\n",
        "  resultado = num1 + num2\n",
        "\n",
        "  return resultado\n",
        "\n",
        "def somatorio_naomultiplos13( X, Y ):\n",
        "  if X > Y:\n",
        "    X,Y = Y, X\n",
        "\n",
        "  somatorio = 0\n",
        "\n",
        "  for i in range(X, Y+1, +1):\n",
        "    if i % 13 != 0:\n",
        "      somatorio += i\n",
        "\n",
        "  print(somatorio)\n",
        "\n",
        "for i in range(10):\n",
        "  bom_dia()\n",
        "\n",
        "\n",
        "x = 10\n",
        "y = 50.8\n",
        "r = soma2(x, y)\n",
        "\n",
        "print( r )\n",
        "print( soma2(12, 89) )\n",
        "\n",
        "somatorio_naomultiplos13( 200, 100 )\n",
        "somatorio_naomultiplos13( 0, 15 )"
      ],
      "metadata": {
        "colab": {
          "base_uri": "https://localhost:8080/"
        },
        "id": "dDs5HjN6kdoT",
        "outputId": "1ddaf82a-ec96-4e91-b136-2558f1aae290"
      },
      "execution_count": null,
      "outputs": [
        {
          "output_type": "stream",
          "name": "stdout",
          "text": [
            "Bom dia\n",
            "Bom dia\n",
            "Bom dia\n",
            "Bom dia\n",
            "Bom dia\n",
            "Bom dia\n",
            "Bom dia\n",
            "Bom dia\n",
            "Bom dia\n",
            "Bom dia\n",
            "60.8\n",
            "101\n",
            "13954\n",
            "107\n"
          ]
        }
      ]
    },
    {
      "cell_type": "markdown",
      "source": [
        "beecrowd | 1006\n",
        "Média 2"
      ],
      "metadata": {
        "id": "6RLRGvyLmRkZ"
      }
    },
    {
      "cell_type": "code",
      "source": [
        "def media_ponderada3( n1, n2, n3, p1, p2, p3 ):\n",
        "  media = (n1*p1 + n2*p2 + n3*p3) / (p1+p2+p3)\n",
        "  return media\n",
        "\n",
        "A = float( input() )\n",
        "B = float( input() )\n",
        "C = float( input() )\n",
        "\n",
        "m = media_ponderada3(A, B, C, 2, 3, 5)\n",
        "\n",
        "print(f\"MEDIA = {m:.1f}\")"
      ],
      "metadata": {
        "colab": {
          "base_uri": "https://localhost:8080/"
        },
        "id": "no7-hg3xmRua",
        "outputId": "2f967393-acce-45c1-e42c-3248f03efa3a"
      },
      "execution_count": null,
      "outputs": [
        {
          "output_type": "stream",
          "name": "stdout",
          "text": [
            "5\n",
            "10\n",
            "10\n",
            "MEDIA = 9.0\n"
          ]
        }
      ]
    },
    {
      "cell_type": "code",
      "source": [
        "produtos = ['detergente', 'carioquinha', 'leite', 'cafe']\n",
        "quantidade = [26, 200, 36, 50]\n",
        "preços_compra = [1.10, 0.20, 3.7, 12.0]\n",
        "preços_venda = [1.30, 0.40, 4.4, 16.0]\n",
        "validades = ['03/2026', '03/2025', '06/2025', '07/2026']\n",
        "\n",
        "def cadastrar_produto():\n",
        "  print(\"Cadastrar produto\")\n",
        "\n",
        "\n",
        "def remover_produto():\n",
        "  print(\"Remover produto\")\n",
        "\n",
        "\n",
        "def atualizar_produto():\n",
        "  print(\"Atualizar produto\")\n",
        "\n",
        "\n",
        "def listar_produtos():\n",
        "  print(\"Lista de produtos:\")\n",
        "\n",
        "  for i in range(len(produtos)):\n",
        "    print(\"*-*-*-*-*-*-*-*-\")\n",
        "    print(f\"Produto {produtos[i]} possui em estoque {quantidade[i]} unidades\")\n",
        "    print(f\"Preço de compra: R$ {preços_compra[i]}\")\n",
        "    print(f\"Preço de venda: R$ {preços_venda[i]}\")\n",
        "    print(f\"Validade do produto: {validades[i]}\")\n",
        "    print(\" \")\n",
        "\n",
        "\n",
        "def menu():\n",
        "    while True:\n",
        "        print(\"\\n\")\n",
        "        print(\"Menu:\")\n",
        "        print(\"1. Cadastrar produto\")\n",
        "        print(\"2. Remover produto\")\n",
        "        print(\"3. Atualizar produto\")\n",
        "        print(\"4. Listar produtos\")\n",
        "        print(\"5. Sair\")\n",
        "\n",
        "        opcao = input(\"Escolha uma opção: \")\n",
        "\n",
        "        if opcao == '1':\n",
        "            cadastrar_produto()\n",
        "        elif opcao == '2':\n",
        "            remover_produto()\n",
        "        elif opcao == '3':\n",
        "            atualizar_produto()\n",
        "        elif opcao == '4':\n",
        "            listar_produtos()\n",
        "        elif opcao == '5':\n",
        "            print(\"Saindo do programa...\")\n",
        "            break\n",
        "        else:\n",
        "            print(\"Opção inválida. Tente novamente.\\n\")\n",
        "\n",
        "\n",
        "def main():\n",
        "    menu()\n",
        "\n",
        "\n",
        "main()"
      ],
      "metadata": {
        "colab": {
          "base_uri": "https://localhost:8080/",
          "height": 1000
        },
        "id": "pwikhk9DpNDe",
        "outputId": "c15f3c76-81c7-4656-ffe0-9a89cb77d852"
      },
      "execution_count": null,
      "outputs": [
        {
          "output_type": "stream",
          "name": "stdout",
          "text": [
            "\n",
            "\n",
            "Menu:\n",
            "1. Cadastrar produto\n",
            "2. Remover produto\n",
            "3. Atualizar produto\n",
            "4. Listar produtos\n",
            "5. Sair\n",
            "Escolha uma opção: 4\n",
            "Lista de produtos:\n",
            "*-*-*-*-*-*-*-*-\n",
            "Produto detergente\n",
            "Preço de compra: R$ 1.1\n",
            "Preço de venda: R$ 1.3\n",
            "Validade do produto: 03/2026\n",
            " \n",
            "*-*-*-*-*-*-*-*-\n",
            "Produto carioquinha\n",
            "Preço de compra: R$ 0.2\n",
            "Preço de venda: R$ 0.4\n",
            "Validade do produto: 03/2025\n",
            " \n",
            "*-*-*-*-*-*-*-*-\n",
            "Produto leite\n",
            "Preço de compra: R$ 3.7\n",
            "Preço de venda: R$ 4.4\n",
            "Validade do produto: 06/2025\n",
            " \n",
            "*-*-*-*-*-*-*-*-\n",
            "Produto cafe\n",
            "Preço de compra: R$ 12.0\n",
            "Preço de venda: R$ 16.0\n",
            "Validade do produto: 07/2026\n",
            " \n",
            "\n",
            "\n",
            "Menu:\n",
            "1. Cadastrar produto\n",
            "2. Remover produto\n",
            "3. Atualizar produto\n",
            "4. Listar produtos\n",
            "5. Sair\n"
          ]
        },
        {
          "output_type": "error",
          "ename": "KeyboardInterrupt",
          "evalue": "Interrupted by user",
          "traceback": [
            "\u001b[0;31m---------------------------------------------------------------------------\u001b[0m",
            "\u001b[0;31mKeyboardInterrupt\u001b[0m                         Traceback (most recent call last)",
            "\u001b[0;32m<ipython-input-40-ae45cd3ba772>\u001b[0m in \u001b[0;36m<cell line: 0>\u001b[0;34m()\u001b[0m\n\u001b[1;32m     59\u001b[0m \u001b[0;34m\u001b[0m\u001b[0m\n\u001b[1;32m     60\u001b[0m \u001b[0;34m\u001b[0m\u001b[0m\n\u001b[0;32m---> 61\u001b[0;31m \u001b[0mmain\u001b[0m\u001b[0;34m(\u001b[0m\u001b[0;34m)\u001b[0m\u001b[0;34m\u001b[0m\u001b[0;34m\u001b[0m\u001b[0m\n\u001b[0m",
            "\u001b[0;32m<ipython-input-40-ae45cd3ba772>\u001b[0m in \u001b[0;36mmain\u001b[0;34m()\u001b[0m\n\u001b[1;32m     56\u001b[0m \u001b[0;34m\u001b[0m\u001b[0m\n\u001b[1;32m     57\u001b[0m \u001b[0;32mdef\u001b[0m \u001b[0mmain\u001b[0m\u001b[0;34m(\u001b[0m\u001b[0;34m)\u001b[0m\u001b[0;34m:\u001b[0m\u001b[0;34m\u001b[0m\u001b[0;34m\u001b[0m\u001b[0m\n\u001b[0;32m---> 58\u001b[0;31m     \u001b[0mmenu\u001b[0m\u001b[0;34m(\u001b[0m\u001b[0;34m)\u001b[0m\u001b[0;34m\u001b[0m\u001b[0;34m\u001b[0m\u001b[0m\n\u001b[0m\u001b[1;32m     59\u001b[0m \u001b[0;34m\u001b[0m\u001b[0m\n\u001b[1;32m     60\u001b[0m \u001b[0;34m\u001b[0m\u001b[0m\n",
            "\u001b[0;32m<ipython-input-40-ae45cd3ba772>\u001b[0m in \u001b[0;36mmenu\u001b[0;34m()\u001b[0m\n\u001b[1;32m     38\u001b[0m         \u001b[0mprint\u001b[0m\u001b[0;34m(\u001b[0m\u001b[0;34m\"5. Sair\"\u001b[0m\u001b[0;34m)\u001b[0m\u001b[0;34m\u001b[0m\u001b[0;34m\u001b[0m\u001b[0m\n\u001b[1;32m     39\u001b[0m \u001b[0;34m\u001b[0m\u001b[0m\n\u001b[0;32m---> 40\u001b[0;31m         \u001b[0mopcao\u001b[0m \u001b[0;34m=\u001b[0m \u001b[0minput\u001b[0m\u001b[0;34m(\u001b[0m\u001b[0;34m\"Escolha uma opção: \"\u001b[0m\u001b[0;34m)\u001b[0m\u001b[0;34m\u001b[0m\u001b[0;34m\u001b[0m\u001b[0m\n\u001b[0m\u001b[1;32m     41\u001b[0m \u001b[0;34m\u001b[0m\u001b[0m\n\u001b[1;32m     42\u001b[0m         \u001b[0;32mif\u001b[0m \u001b[0mopcao\u001b[0m \u001b[0;34m==\u001b[0m \u001b[0;34m'1'\u001b[0m\u001b[0;34m:\u001b[0m\u001b[0;34m\u001b[0m\u001b[0;34m\u001b[0m\u001b[0m\n",
            "\u001b[0;32m/usr/local/lib/python3.11/dist-packages/ipykernel/kernelbase.py\u001b[0m in \u001b[0;36mraw_input\u001b[0;34m(self, prompt)\u001b[0m\n\u001b[1;32m    849\u001b[0m                 \u001b[0;34m\"raw_input was called, but this frontend does not support input requests.\"\u001b[0m\u001b[0;34m\u001b[0m\u001b[0;34m\u001b[0m\u001b[0m\n\u001b[1;32m    850\u001b[0m             )\n\u001b[0;32m--> 851\u001b[0;31m         return self._input_request(str(prompt),\n\u001b[0m\u001b[1;32m    852\u001b[0m             \u001b[0mself\u001b[0m\u001b[0;34m.\u001b[0m\u001b[0m_parent_ident\u001b[0m\u001b[0;34m,\u001b[0m\u001b[0;34m\u001b[0m\u001b[0;34m\u001b[0m\u001b[0m\n\u001b[1;32m    853\u001b[0m             \u001b[0mself\u001b[0m\u001b[0;34m.\u001b[0m\u001b[0m_parent_header\u001b[0m\u001b[0;34m,\u001b[0m\u001b[0;34m\u001b[0m\u001b[0;34m\u001b[0m\u001b[0m\n",
            "\u001b[0;32m/usr/local/lib/python3.11/dist-packages/ipykernel/kernelbase.py\u001b[0m in \u001b[0;36m_input_request\u001b[0;34m(self, prompt, ident, parent, password)\u001b[0m\n\u001b[1;32m    893\u001b[0m             \u001b[0;32mexcept\u001b[0m \u001b[0mKeyboardInterrupt\u001b[0m\u001b[0;34m:\u001b[0m\u001b[0;34m\u001b[0m\u001b[0;34m\u001b[0m\u001b[0m\n\u001b[1;32m    894\u001b[0m                 \u001b[0;31m# re-raise KeyboardInterrupt, to truncate traceback\u001b[0m\u001b[0;34m\u001b[0m\u001b[0;34m\u001b[0m\u001b[0m\n\u001b[0;32m--> 895\u001b[0;31m                 \u001b[0;32mraise\u001b[0m \u001b[0mKeyboardInterrupt\u001b[0m\u001b[0;34m(\u001b[0m\u001b[0;34m\"Interrupted by user\"\u001b[0m\u001b[0;34m)\u001b[0m \u001b[0;32mfrom\u001b[0m \u001b[0;32mNone\u001b[0m\u001b[0;34m\u001b[0m\u001b[0;34m\u001b[0m\u001b[0m\n\u001b[0m\u001b[1;32m    896\u001b[0m             \u001b[0;32mexcept\u001b[0m \u001b[0mException\u001b[0m \u001b[0;32mas\u001b[0m \u001b[0me\u001b[0m\u001b[0;34m:\u001b[0m\u001b[0;34m\u001b[0m\u001b[0;34m\u001b[0m\u001b[0m\n\u001b[1;32m    897\u001b[0m                 \u001b[0mself\u001b[0m\u001b[0;34m.\u001b[0m\u001b[0mlog\u001b[0m\u001b[0;34m.\u001b[0m\u001b[0mwarning\u001b[0m\u001b[0;34m(\u001b[0m\u001b[0;34m\"Invalid Message:\"\u001b[0m\u001b[0;34m,\u001b[0m \u001b[0mexc_info\u001b[0m\u001b[0;34m=\u001b[0m\u001b[0;32mTrue\u001b[0m\u001b[0;34m)\u001b[0m\u001b[0;34m\u001b[0m\u001b[0;34m\u001b[0m\u001b[0m\n",
            "\u001b[0;31mKeyboardInterrupt\u001b[0m: Interrupted by user"
          ]
        }
      ]
    }
  ]
}