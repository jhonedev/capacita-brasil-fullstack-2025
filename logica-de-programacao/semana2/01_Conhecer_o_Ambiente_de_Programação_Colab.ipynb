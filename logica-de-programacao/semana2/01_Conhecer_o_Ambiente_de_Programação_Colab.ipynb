{
  "cells": [
    {
      "cell_type": "markdown",
      "id": "10150c4f-77ed-4ddb-b205-1bef8254bd0c",
      "metadata": {
        "id": "10150c4f-77ed-4ddb-b205-1bef8254bd0c"
      },
      "source": [
        " ## Conhecer o Ambiente de Programação `Colab`"
      ]
    },
    {
      "cell_type": "markdown",
      "id": "cc98150c-cc9a-4934-9b20-7ee06d062412",
      "metadata": {
        "id": "cc98150c-cc9a-4934-9b20-7ee06d062412",
        "tags": []
      },
      "source": [
        "## 1- Conhecendo o ambiente Google Colab\n",
        "\n",
        "Bem-vindos ao `Colab` (Colaboratory), é uma ferramenta oferecida pelo Google que permite escrever e executar código Python diretamente no seu navegador, sem qualquer instalação ou configuração prévia. Essa ferramenta é excelente para o aprendizado do Python e, também, muito usada por programadores experientes.O Colab é um serviço `Jupyter Notebook` que pos sua vez acessar os recursos do ´IPython´.\n",
        "\n",
        "> IPython é um interpretador interativo para a linguagem Python.\n",
        "\n",
        "> Jupyter Notebook é uma aplicação web que fornece uma interface rica e interativa para várias linguagens de programação, incluindo Python. Jupyter (linguagens **Ju**lia, **py**thon e **R**).\n",
        "\n",
        "A Plataforma Google Colab roda na **nuvem** da Google. Google Colab e usa a tecnologia **Docker** para executar seus notebooks. O Docker é uma plataforma para empacotar aplicativos em um ambiente portátil chamado contêiner, que será executado da mesma forma em qualquer máquina, desde que o Docker esteja instalado. Dentro do contêiner Docker está instalado o sistema operacional **Linux**, o interpretador **Python** e várias **bibliotecas** adicionais.\n",
        "\n",
        "O Google Colab está acessível pelo endereço https://colab.research.google.com/\n",
        "\n",
        "No link a seguir você pode verificar as respostas às `perguntas frequentes sobre o Google Colab` https://research.google.com/colaboratory/intl/pt-BR/faq.html\n",
        "\n",
        ">O idioma apresentado é baseado nas configurações do navegador, portanto, para alterar para o português você deverá alterar as configurações de idioma do seu navegador.\n",
        "\n",
        "\n",
        "\n",
        "**1. O que é um Notebook?**\n",
        "\n",
        "O `Jupyter Notebook` é uma aplicação Web de código aberto que permite criar `Notebooks` e possibilita a programação de forma interativa permitindo uma abordagem passoa a passo no desenvolvimento de programas.\n",
        "\n",
        "Um `\"notebook\"` é um documento que combina células de código e células de texto. Isso ajuda no aprendizado porque é possível escrever notas e explicações junto com o código. O formato de arquivos do tipo Notebook apresenta a extensão `.ipynb` .\n",
        "\n",
        ">Na versão do Colab sem custo financeiro, os notebooks estão disponíveis por no máximo `12 horas`. Portanto, os arquivos guardados dentro da plataforma Google Colab ficam `armazenados temporariamente`. `Neste curso iremos trabalhar com o armazenamento temporário`. caso deseje armazenar um arquivo de forma `permanente` utilize a opção de `download` de arquivos para sua máquina local.\n",
        "\n",
        "\n",
        "> O armazenamento permanente de arquivos no Google Colab pode ser feito pela versão paga ou feito na versão gratuita via integração com Google Drive ou Github.\n",
        "\n",
        "\n",
        "\n",
        "**2. Células**\n",
        "\n",
        "Os notebooks são compostos por \"células\". Existem basicamente dois tipos de células:\n",
        "\n",
        "- **Células de código**: onde escrevemos e executamos o código Python.\n",
        "- **Células de texto (Markdown)**: usadas para adicionar texto simples ou texto formatado (negrito, itálico, títulos, etc).\n",
        "\n",
        ">`Markdown` é uma linguagem voltada para formatação de textos. Com ela você insere marcadores enquanto digita, como underlines (_) e asteriscos (*) para formatar o texto.\n",
        "\n",
        "**3. Executando Células**\n",
        "\n",
        "Escrevemos o programa em Python em uma célula e para executar clicamos no ícone de \"Run\" ou  `Shift + Enter`. Os resultados são visualizados imediatamente abaixo da célula.\n",
        "\n",
        "> A célula que você está lendo agora é uma célula do tipo texto markdown. Observe que se você realizar um duplo clique verá os códigos Mardowns utilizados para formatar este texto. Para voltar a visualizar o texto formatado clique no botão com um símbolo do lápis no canto superior direito.\n",
        "\n",
        "\n",
        "**4. Interface**\n",
        "\n",
        "A interface do Colab é amigável e similar a outros serviços do Google:\n",
        "\n",
        "- **Menu**: há um menu na parte superior com opções como Arquivo, Editar, Exibir, Inserir, Ambiente de Execução, ferramentas que oferecem diversas ações para criar um novo notebook, abrir um notebook existente, salvar, compartilhar, e executar células, entre outras funções.\n",
        "\n",
        "- **Barra de ferramentas lateral**: localizada na parte esquerda com opções de Ferramenta de Pesquisa, Visualizador de Variáveis, Gerenciador de Arquivos, entre outras funções.\n",
        "  \n",
        "- **Lista de células**:  cada célula pode ser clicada e editada. Há ícones na parte superior direita da célula que permitem adicionar novas células, cortar/copiar/colar células, mover células para cima ou para baixo dentre outras funções.\n",
        "\n",
        "**5. Começando a Usar**\n",
        "\n",
        "- **Criando um novo Notebook**: clicar no menu `>Arquivo > Novo Notebook`. Outra forma é clicando no ícone `+ Código` na parte superior do notebook.\n",
        "  \n",
        "- **Executando Células**: clicar na célula que deseja executar em seguida clicar no `ícone de \"Executar\"` ou use `Shift + Enter` para executar. Os resultados são apresentados imediatamente abaixo da célula.\n",
        "  \n",
        "- **Adicionando Texto**: textos, notas, imagens e formatações podem ser adicionados usando células do tipo Texto (Markdown).\n",
        "\n",
        "---\n"
      ]
    },
    {
      "cell_type": "markdown",
      "id": "d6276c22-9544-4e8d-9c06-f266b2fd13a6",
      "metadata": {
        "id": "d6276c22-9544-4e8d-9c06-f266b2fd13a6",
        "tags": []
      },
      "source": [
        "## Primeiro Programa\n",
        "\n",
        "Tradicionalmente, o primeiro programa que se escreve em uma nova linguagem de programação é conhecido como  **“Olá, Mundo!”**\n",
        "porque tudo o que ele faz é exibir as palavras “Olá, Mundo!”. Em Python, fica assim:\n",
        "\n",
        "```python\n",
        "print ('Olá, mundo!')\n",
        "```\n",
        "\n",
        "Utilizamos o comando `print` para mostrar o resultado na tela, conforme resultado abaixo.\n",
        "\n",
        "```python\n",
        "Olá, Mundo!\n",
        "```\n",
        "As aspas usadas no começo e no fim do texto não aparecem no resultado final e apenas indicam ao Python que trata-se de um tipo string de dados. Estudaremos os tipos de dados na aula 2.\n",
        "\n",
        "Os parênteses indicam que `print` é uma função. Estudaremos sobre função na aula 3.\n",
        "\n"
      ]
    },
    {
      "cell_type": "markdown",
      "id": "efa8c216-3651-4232-ad84-01a5c78426ee",
      "metadata": {
        "id": "efa8c216-3651-4232-ad84-01a5c78426ee"
      },
      "source": [
        "### Exercício\n",
        "Desenvolva um programa que exiba a seguinte frase: `Olá, Mundo! Eu moro no Brasil.`\n",
        "\n",
        "Utilize a célua abaixo para escrever o código.\n",
        "\n",
        "<font size=1>Dica 1: Lembre-se de usar o botão \"Run\" (ou \"Executar\") para rodar cada célula e ver os resultados!</font>\n",
        "\n",
        "<details>\n",
        "  <summary><font size=\"1\">Clique aqui para ver a resposta</font></summary>\n",
        "  \n",
        "  ``` python\n",
        "print ('Olá, mundo! Eu moro no Brasil.')\n",
        "\n",
        "```\n",
        "</details>\n",
        "\n",
        "\n"
      ]
    },
    {
      "cell_type": "code",
      "execution_count": null,
      "id": "3868b543-4cb6-4881-ae79-108609e07824",
      "metadata": {
        "id": "3868b543-4cb6-4881-ae79-108609e07824",
        "tags": []
      },
      "outputs": [],
      "source": []
    },
    {
      "cell_type": "markdown",
      "id": "b358d32c-2d2d-483f-8d43-2ead91c29da0",
      "metadata": {
        "id": "b358d32c-2d2d-483f-8d43-2ead91c29da0"
      },
      "source": [
        "---\n",
        "### Como apagar a célula de resultado\n",
        "**Apagar Manualmente**: Você pode apagar a saída de uma célula específica clicando com o botão direito do mouse na saída e selecionando \"Clear output\" ou \"Apagar saída\".\n",
        "\n",
        "**Apagar via Menu**\n",
        "\n",
        "- `Apagar a saída corrente`: Você pode clicar no ícone ao lado da saída da célula.\n",
        "\n",
        "- `Apagar todas as saídas`: Você pode ir até o menu \"Editar\" -> \"Limpar todas as saídas\". Todas as saídas de todas as células no Notebook serão apagaas.\n"
      ]
    },
    {
      "cell_type": "markdown",
      "id": "ce623bbb-b710-43a9-b6a3-f086eeb3e9b7",
      "metadata": {
        "id": "ce623bbb-b710-43a9-b6a3-f086eeb3e9b7"
      },
      "source": [
        "---\n",
        "### Debugging\n",
        "\n",
        "Podemos cometer erros quando escrevemos programas em Python. Esse erros são conhecidos como `\"bugs\"` e o processo de identificar os erros é chamado de `\"debugging\"` ou `depuração`. Na aula 6 estudaremos em mais detalhes estratégias para realizar a depuração de programas.\n",
        "\n",
        "No entanto, precisamos desde já nos familizar com as `mensagens de erro` que que recebemos do interpretador Python. Essas mensagens nos informam o tipo de erro ocorrido e a posição do código em que ocorreu o problema.\n",
        "\n",
        "O processo de depuração de erros pode, em alguns momentos, ser fonte de fortes emoções para algumas pessoas, principalmente quando se deparam com um `\"bug\"` difícil de detectar. Devemos pensar que o computador tem suas regras de funcionamento e que ele nos alerta por meio de mensagens de erro quando essas regras são quebradas.\n",
        "\n",
        "No código abaixo há um `\"bug\"`, a saber: não foi inserida a aspas fechando a frase. Observe que mesmo antes de executarmos o código, o compudador pode já nos avisa com alguma indicação visual no código que há um `\"bug\"`.\n",
        "\n",
        "```python\n",
        "print ('Olá, mundo!)\n",
        "```\n",
        "Abaixo a mensagem de erro enviada após a execução do código:\n",
        "\n",
        "```python\n",
        "    Cell In[1], line 1\n",
        "    print ('olá, mundo!)\n",
        "           ^\n",
        "    SyntaxError: unterminated string literal (detected at line 1)\n",
        "```\n",
        "\n",
        "Abaixo o código corrigido:\n",
        "\n",
        "```python\n",
        "print ('Olá, mundo!')\n",
        "```\n",
        "Resultado:\n",
        "\n",
        "```python\n",
        "Olá, mundo!\n",
        "```\n",
        "\n"
      ]
    },
    {
      "cell_type": "markdown",
      "id": "6be41647-f25f-4cad-91a1-7aa1066be302",
      "metadata": {
        "id": "6be41647-f25f-4cad-91a1-7aa1066be302",
        "tags": []
      },
      "source": [
        "## Exercício\n",
        "\n",
        "Agora, é sua vez! Insira um `\"bug\"` em seu programa que exibe a frase `\"Olá, mundo! Eu moro no Brasil\"`.\n",
        "Para isso você pode escrever errado o comando `print`, pode retirar um dos parênteses ou retirar as aspas. Execute o comando e observe a mensagem de erro que surge.\n",
        "\n",
        "\n",
        "\n",
        "<font size=\"1\"> <u> Dica</u>: Lembre-se de usar o botão \"Run\" (ou \"Executar\") para rodar cada célula e ver os resultados! </font>\n",
        "\n",
        "\n",
        "<details>\n",
        "  <summary><font size=\"1\">Clique aqui para ver a resposta</font></summary>\n",
        "  \n",
        "  ``` python\n",
        "print (Olá, mundo! Eu moro no Brasil.')\n",
        "\n",
        "```\n",
        "</details>"
      ]
    },
    {
      "cell_type": "code",
      "execution_count": null,
      "id": "72261350-2a18-44c9-9c07-6e8d87e54561",
      "metadata": {
        "id": "72261350-2a18-44c9-9c07-6e8d87e54561"
      },
      "outputs": [],
      "source": []
    },
    {
      "cell_type": "markdown",
      "id": "107b5a2e-266e-4059-ad60-7b85ef695407",
      "metadata": {
        "id": "107b5a2e-266e-4059-ad60-7b85ef695407"
      },
      "source": [
        "---\n",
        "## Inserindo comentários no programa Python\n",
        "\n",
        "Comentários são usados em programação para explicar o código, tornando-o mais legível, para documentar o código ou para impedir a execução de partes do código ao depurá-lo.\n",
        "\n",
        "Em Python, os comentários são iniciados com o símbolo **`#`**. Tudo após o **`#`** em uma linha de código é considerado um comentário e não será executado pelo interpretador Python.\n",
        "\n",
        "Observe que os comentários são também sinalizados pela mudança de cor.\n",
        "\n",
        "```python\n",
        "# Aqui é comentário  1 que não será executado como uma instrução pelo Python\n",
        "print ('Olá, mundo!') # isso após o código também é um comentário\n",
        "\n",
        "# Aqui é comentário  2 que não será executado como uma instrução pelo Python\n",
        "print ('O mundo é grande!')\n",
        "       \n",
        "# Aqui é um comentário informando que a frase abaixo não será exibida pois a linha com a instrução print está comentada\n",
        "#print ('o mundo é belo')\n",
        "       \n",
        "```\n",
        "\n",
        "Para realização de comentários em várias linhas use o **`#`** em linhas consecutivas:\n",
        "\n",
        "```python\n",
        "# Este é um comentário\n",
        "# que se estende por várias\n",
        "# linhas.\n",
        "```\n",
        "\n",
        "\n"
      ]
    },
    {
      "cell_type": "markdown",
      "id": "3ed52ffc-cf43-427a-9417-6f451721824a",
      "metadata": {
        "id": "3ed52ffc-cf43-427a-9417-6f451721824a",
        "tags": []
      },
      "source": [
        "## Exercício\n",
        "\n",
        "Agora, é sua vez! Insira `comentários` no seu código que exibe a frase `Olá, mundo!`. Utilize a primeira linha de seu programa para documentar o que o programa faz.  \n",
        "<font size=\"1\"> <u> Dica</u>: Lembre-se de usar o botão \"Run\" (ou \"Executar\") para rodar cada célula e ver os resultados! Perceba que ao executar os comentários não são exibidos. </font>\n",
        "\n",
        "<details>\n",
        "  <summary><font size=\"1\">Clique aqui para ver a resposta</font></summary>\n",
        "  \n",
        "  ``` python\n",
        "# Esse programa exibe uma frase\n",
        "print ('Olá, mundo!')\n",
        "\n",
        "```\n",
        "</details>\n",
        "    "
      ]
    },
    {
      "cell_type": "code",
      "execution_count": null,
      "id": "a24a523b-8584-4787-935b-200d9fc8b649",
      "metadata": {
        "id": "a24a523b-8584-4787-935b-200d9fc8b649"
      },
      "outputs": [],
      "source": []
    },
    {
      "cell_type": "markdown",
      "id": "8d165586-e9e9-44a8-ae77-990c714eb200",
      "metadata": {
        "id": "8d165586-e9e9-44a8-ae77-990c714eb200"
      },
      "source": [
        "---\n",
        "## Indentação em Python\n",
        "\n",
        "Indentação refere-se aos `espaços` ou `tabs` no início de uma linha de código. Em muitas linguagens de programação, a indentação é usada apenas para legibilidade. No entanto, em Python, a indentação tem um significado sintático e é essencial para a estrutura do código. Nas demais aulas detalharemos sobre a indetação em Python.\n",
        "\n",
        "Por hora precisamos saber que se não respeitarmos as regras da indentação o programa terá um `\"bug\"` e não executará.\n",
        "\n",
        "A primeira regra básica de indentação em Python é que as linhas de comandos devem estar perfeitamente alinhadas, conforme exemplo abaixo. Ao longo do curso veremos como a indentação das linhas de código se comportará.\n",
        "\n",
        "**(Errado)** A segunda linha do código abaixo está com a indentação incorreta.\n",
        "\n",
        "  ``` python\n",
        "print ('Olá, mundo!')\n",
        " print ('O mundo é grande!')  # nessa linha há um erro de indentação      \n",
        "print ('o mundo é belo')\n",
        "  ```\n",
        "Abaixo mensagem de erro emitida pelo computador informando que há um `\"bug\"`:\n",
        "  \n",
        "  ``` python\n",
        "    Cell In[3], line 2\n",
        "    print ('O mundo é grande!)\n",
        "    ^\n",
        "IndentationError: unexpected indent\n",
        "  ```\n",
        "\n",
        "**(Certo)** Ababixo temos um código correto, pois todas as linhas possuem a mesma indentação.\n",
        "  ``` python\n",
        "print ('Olá, mundo!')\n",
        "print ('O mundo é grande!')       \n",
        "print ('o mundo é belo')\n",
        "  ```\n",
        "\n",
        "**Utilize a célula abaixo para testar a indentação em Python**"
      ]
    },
    {
      "cell_type": "code",
      "execution_count": null,
      "id": "4c5d72b6-a062-4557-a1cd-9c6a786722b2",
      "metadata": {
        "id": "4c5d72b6-a062-4557-a1cd-9c6a786722b2",
        "tags": []
      },
      "outputs": [],
      "source": []
    },
    {
      "cell_type": "markdown",
      "id": "c0150eb0-bb71-48bb-8399-8bc19e92a508",
      "metadata": {
        "id": "c0150eb0-bb71-48bb-8399-8bc19e92a508"
      },
      "source": [
        "### Usando Python como calculadora Simples\n",
        "\n",
        "O Python pode ser usado para realizar cálculos matemáticos. Vamos explorar as operações básicas.\n",
        "\n",
        "Operações básicas\n",
        "\n",
        "*   Adição (+)\n",
        "*   Subtração (-)\n",
        "*   Multiplicação (*)\n",
        "*   Divisão (/)\n",
        "*   Divisão Inteira (//)\n",
        "*   Resto da divisão (Módulo) (%)\n",
        "*   Potenciação (**)\n",
        "\n",
        "\n",
        "Observe que os cálculos podem ser executados diretamente:\n",
        "\n",
        "```python\n",
        "# Adição\n",
        "5 + 3  # Resultado: 8\n",
        "\n",
        "# Subtração\n",
        "10 - 7  # Resultado: 3\n",
        "\n",
        "# Multiplicação\n",
        "4 * 3  # Resultado: 12\n",
        "\n",
        "# Divisão\n",
        "8 / 2  # Resultado: 4.0\n",
        "\n",
        "# Divisão Inteira\n",
        "7 // 3  # Resultado: 2\n",
        "\n",
        "# Resto da divisão (Módulo)\n",
        "7 % 3  # Resultado: 1\n",
        "\n",
        "# Potenciação\n",
        "2 ** 3  # Resultado: 8\n",
        "```\n",
        "\n",
        "Observe que os cálculos também podem ser executados com o comando `print`.\n",
        "\n",
        "```python\n",
        "# Adição\n",
        "print(5 + 3)  # Resultado: 8\n",
        "\n",
        "# Subtração\n",
        "print(10 - 7)  # Resultado: 3\n",
        "\n",
        "# Multiplicação\n",
        "print(4 * 3)  # Resultado: 12\n",
        "\n",
        "# Divisão\n",
        "print(8 / 2)  # Resultado: 4.0\n",
        "\n",
        "# Divisão Inteira\n",
        "print(7 // 3)  # Resultado: 2\n",
        "\n",
        "# Resto da divisão (Módulo)\n",
        "print(7 % 3)  # Resultado: 1\n",
        "\n",
        "# Potenciação\n",
        "print(2 ** 3)  # Resultado: 8\n",
        "\n",
        "```\n",
        "> Saleinte-se que as expressões matemáticas podem ser usadas com uso de parênteses para realizar várias operações em apenas uma instrução:\n",
        "\n",
        "```python\n",
        "4*(2+3)-(5*(7+5))\n",
        "```\n"
      ]
    },
    {
      "cell_type": "code",
      "execution_count": null,
      "id": "a58fa9d7-9b97-42e4-9d6b-c9652400f130",
      "metadata": {
        "id": "a58fa9d7-9b97-42e4-9d6b-c9652400f130"
      },
      "outputs": [],
      "source": []
    },
    {
      "cell_type": "markdown",
      "id": "04e17ed1-85e9-4f8e-ab93-ebf422d51e9e",
      "metadata": {
        "id": "04e17ed1-85e9-4f8e-ab93-ebf422d51e9e"
      },
      "source": [
        "## Exercício\n",
        "\n",
        "Agora, é sua vez! Realize os seguintes cálculos na célula abaixo:\n",
        "\n",
        "1. \\( 12 mais 15 \\)\n",
        "2. \\( 25 menos 17 \\)\n",
        "3. \\( 8 vezes 7 \\)\n",
        "4. \\( 144 dividio por 12 \\)\n",
        "5. \\( resto da divisão de 18 por 4)\n",
        "6. \\( potência de 3 elevado a 4)\n",
        "\n",
        "\n",
        "<font size=\"1\"> <u> Dica</u>: Lembre-se de usar o botão \"Run\" (ou \"Executar\") para rodar cada célula e ver os resultados! </font>\n",
        "\n",
        "<details>\n",
        "  <summary><font size=\"1\">Clique aqui para ver a resposta</font></summary>\n",
        "  \n",
        "  ``` python\n",
        "12+15\n",
        "25-17\n",
        "8*7\n",
        "144/12\n",
        "18 % 4\n",
        "3**4  \n",
        "#ou usando o comando print  \n",
        "print (12+15)\n",
        "print (25-17)\n",
        "print (8*7)\n",
        "print (144/12)\n",
        "print (18 % 4)\n",
        "print (3**4)\n",
        "  \n",
        "```\n",
        "</details>\n"
      ]
    },
    {
      "cell_type": "code",
      "execution_count": null,
      "id": "dfd1ec84-eb7f-415f-a4df-4bf375b4cb18",
      "metadata": {
        "id": "dfd1ec84-eb7f-415f-a4df-4bf375b4cb18",
        "tags": []
      },
      "outputs": [],
      "source": []
    }
  ],
  "metadata": {
    "colab": {
      "provenance": []
    },
    "kernelspec": {
      "display_name": "Python 3 (ipykernel)",
      "language": "python",
      "name": "python3"
    },
    "language_info": {
      "codemirror_mode": {
        "name": "ipython",
        "version": 3
      },
      "file_extension": ".py",
      "mimetype": "text/x-python",
      "name": "python",
      "nbconvert_exporter": "python",
      "pygments_lexer": "ipython3",
      "version": "3.10.5"
    },
    "toc-autonumbering": false,
    "toc-showcode": false,
    "toc-showmarkdowntxt": false
  },
  "nbformat": 4,
  "nbformat_minor": 5
}