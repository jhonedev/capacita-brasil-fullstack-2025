{
  "cells": [
    {
      "cell_type": "markdown",
      "id": "35be89cc-c6a5-4700-bc3f-ee9304e47f9d",
      "metadata": {
        "id": "35be89cc-c6a5-4700-bc3f-ee9304e47f9d"
      },
      "source": [
        "### Agenda:\n",
        "**Pilar 1: Estruturas de dados**\n",
        "- Estrutura de dados Inteiro\n",
        "- Estrutura de dados Float\n",
        "- Estrutura de dados boleano"
      ]
    },
    {
      "cell_type": "markdown",
      "id": "cb71ed64-7398-46a4-9692-705921c22410",
      "metadata": {
        "id": "cb71ed64-7398-46a4-9692-705921c22410",
        "tags": []
      },
      "source": [
        "---\n",
        "\n",
        "## Estruturas de Dados: Inteiro\n",
        "\n",
        "**Tipo de Dados: Inteiro**\n",
        "\n",
        "Objeto do tipo inteiro, conhecido como `int` em Python, é usado para representar números inteiros, que podem ser tanto positivos quanto negativos, incluindo zero. Os inteiros são números que não têm uma parte decimal.\n",
        "\n",
        "**Literal que representa tipo de dados `inteiro`**\n",
        "\n",
        "Um literal inteiro é representado simplesmente como um número sem uma parte decimal. Por exemplo, os números `5`, `-3`, e `0` são literais inteiros em Python.\n",
        "\n",
        "```python\n",
        "5  # é um literal inteiro\n",
        "-3  # é um literal inteiro\n",
        "0  # é um literal inteiro\n",
        "```\n",
        "Esses literais podem ser usados diretamente em expressões ou para inicializar `variáveis` do tipo `int`.\n",
        "\n",
        "```python\n",
        "# Inicializando uma variável com um literal inteiro\n",
        "idade = 30\n",
        "```\n",
        "**Principais Operações com inteiros**\n",
        "\n",
        "| Valor  | Instrução      | Operação          | Operador/Função   |\n",
        "|--------|----------------|-------------------|-------------------|\n",
        "| 5      | 3 + 2          | Adição            | +                 |\n",
        "| 2      | 5 - 3          | Subtração         | -                 |\n",
        "| 12     | 4 * 3          | Multiplicação     | *                 |\n",
        "| 4.0    | 8 / 2          | Divisão           | /                 |\n",
        "| 4      | 9 // 2         | Divisão Inteira   | //                |\n",
        "| 1      | 9 % 2          | Resto da Divisão  | %                 |\n",
        "| 8      | 2 ** 3         | Exponenciação     | **                |\n",
        "| 5      | abs(-5)         | Valor Absoluto    | abs( )             |\n",
        "| 3      | round(2.7)      | Arredondamento    | round( )           |\n",
        "| 4      | divmod(9, 2)[0] | Quociente         | divmod( )          |\n",
        "| 1      | divmod(9, 2)[1] | Resto             | divmod( )          |\n",
        "| False ; True ; False     | 3 > 5 ; 3 < 5 ; 3==5      | Comparação   | > ; < ; ==          |\n",
        "\n",
        "\n",
        "\n"
      ]
    },
    {
      "cell_type": "code",
      "execution_count": null,
      "id": "c1641c09-02ea-4adf-bb57-773b505eeb6a",
      "metadata": {
        "id": "c1641c09-02ea-4adf-bb57-773b505eeb6a"
      },
      "outputs": [],
      "source": []
    },
    {
      "cell_type": "markdown",
      "id": "0fa812ab-a080-4760-a88e-89eb6a97e785",
      "metadata": {
        "id": "0fa812ab-a080-4760-a88e-89eb6a97e785"
      },
      "source": [
        "---\n",
        "\n",
        "**Exemplo 1: Cálculo de Salário Líquido**\n",
        "\n",
        "`Entrada`\n",
        "- Solicitar o salário bruto do funcionário.\n",
        "\n",
        "`Processo`\n",
        "- Calcular o salário líquido subtraindo 10% de impostos.\n",
        "\n",
        "`Saída`\n",
        "- Exibir o salário líquido do funcionário.\n",
        "\n",
        "`Programa Python`\n",
        "\n",
        "```python\n",
        "# Entrada\n",
        "salario_bruto = int(input(\"Digite o salário bruto do funcionário: \"))\n",
        "\n",
        "# Processo\n",
        "salario_liquido = salario_bruto - (salario_bruto * 10 / 100)\n",
        "\n",
        "# Saída\n",
        "print(f\"Salário líquido do funcionário: {salario_liquido}\")\n",
        "```\n",
        "\n",
        "> **Instrução: `int()`**\n",
        ">\n",
        "> A instrução `int()` converte do tipo string para o tipo inteiro o valor recebido como entrada. A instrução `input()`, comentada anteriormente, captura a entrada do usuário pelo teclado.\n",
        "---\n"
      ]
    },
    {
      "cell_type": "markdown",
      "id": "acbf1445-9bbd-4232-9dfe-956c816a938a",
      "metadata": {
        "id": "acbf1445-9bbd-4232-9dfe-956c816a938a"
      },
      "source": [
        "**Exemplo 2: Cálculo de lucro**\n",
        "\n",
        "Um teatro oferece espetáculos com ingressos a 100,00 cada. Se um espetáculo vende mais de 150 ingressos, o teatro oferece um bônus de 2.000,00 ao elenco. Calcule o lucro total considerando o custo fixo de 8.000,00 e o número de ingressos vendidos.\n",
        "\n",
        "\n",
        "``` python\n",
        "\n",
        "ingressos_vendidos = int(input(\"Digite o número de ingressos vendidos: \"))\n",
        "preco_ingresso = 100\n",
        "custo_fixo = 8000\n",
        "receita = ingressos_vendidos * preco_ingresso\n",
        "if ingressos_vendidos > 150:\n",
        "    lucro_total = receita + 2000 - custo_fixo\n",
        "else:\n",
        "    lucro_total = receita - custo_fixo\n",
        "print(f\"Lucro total: R$ {lucro_total}\")\n",
        "```\n",
        "\n"
      ]
    },
    {
      "cell_type": "code",
      "execution_count": null,
      "id": "50bcbb9e-6ff6-4c69-bf92-a565abbda134",
      "metadata": {
        "id": "50bcbb9e-6ff6-4c69-bf92-a565abbda134"
      },
      "outputs": [],
      "source": []
    },
    {
      "cell_type": "code",
      "execution_count": null,
      "id": "db1f7727-0b4a-4855-9c2c-f01ed79d5ac5",
      "metadata": {
        "id": "db1f7727-0b4a-4855-9c2c-f01ed79d5ac5"
      },
      "outputs": [],
      "source": []
    },
    {
      "cell_type": "markdown",
      "id": "49a34b7e-24c9-4030-8773-98f7f1d7f94e",
      "metadata": {
        "id": "49a34b7e-24c9-4030-8773-98f7f1d7f94e",
        "tags": []
      },
      "source": [
        "---\n",
        "### Estrutura de Dados: float\n",
        "\n",
        "\n",
        "Em Python, um `float` refere-se a um número que possui uma parte decimal. Ele é usado para representar números reais e é baseado no padrão IEEE 754 para aritmética de ponto flutuante.\n",
        "\n",
        "**Representações (literais) do tipo de dados `float`**:\n",
        "Um literal `float` em Python é representado por um número que contém um ponto decimal ou pela notação científica.\n",
        "\n",
        "Exemplos de literais `float`:\n",
        "- 3.14\n",
        "- 0.001\n",
        "- 2.71828\n",
        "- 1.23e4 (que é equivalente a 12300.0)\n",
        "\n",
        "> Atenção: o ponto (**`.`**) é o separador de decimal em Python.\n",
        "\n",
        "\n",
        "**Principais Operações com float**\n",
        "\n",
        "\n",
        "| Valor  | Instrução                | Operação             | Operador/Função  |\n",
        "|--------|--------------------------|----------------------|------------------|\n",
        "| 4.5    | 3.0 + 1.5                | Adição               | +                |\n",
        "| 1.5    | 3.0 - 1.5                | Subtração            | -                |\n",
        "| 6.0    | 3.0 * 2.0                | Multiplicação        | *                |\n",
        "| 2.0    | 6.0 / 3.0                | Divisão              | /                |\n",
        "| 2.0    | 5.0 // 2.5               | Divisão Inteira      | //               |\n",
        "| 0.5    | 5.0 % 2.5                | Resto da Divisão     | %                |\n",
        "| 9.0    | 3.0 ** 2.0               | Exponenciação        | **               |\n",
        "| 4.5    | abs(-4.5)                | Valor Absoluto       | abs( )           |\n",
        "| 3.0    | round(2.7)               | Arredondamento       | round( )         |\n",
        "| 2.0    | divmod(5.0, 2.5)[0]      | Quociente            | divmod( )        |\n",
        "| 0.5    | divmod(5.0, 2.5)[1]      | Resto                | divmod( )        |\n",
        "\n"
      ]
    },
    {
      "cell_type": "code",
      "execution_count": null,
      "id": "a84acf47-1710-4907-9743-806739bb7182",
      "metadata": {
        "id": "a84acf47-1710-4907-9743-806739bb7182"
      },
      "outputs": [],
      "source": []
    },
    {
      "cell_type": "markdown",
      "id": "c6234462-d35c-4793-a8e1-42a07d58e265",
      "metadata": {
        "tags": [],
        "id": "c6234462-d35c-4793-a8e1-42a07d58e265"
      },
      "source": [
        "**Exemplo : Conversão de Temperatura**\n",
        "\n",
        "`Entrada`\n",
        "\n",
        "-Solicitar a temperatura em graus Celsius.\n",
        "\n",
        "`Processo`\n",
        "\n",
        "- Converter a temperatura de Celsius para Fahrenheit usando a fórmula: ( F = 9/5 * C + 32 ), onde \\( F \\) é a temperatura em Fahrenheit e \\( C \\) é a temperatura em Celsius.\n",
        "\n",
        "`Saída`\n",
        "\n",
        "- Exibir a temperatura convertida em Fahrenheit.\n",
        "\n",
        "Programa Python\n",
        "\n",
        "```python\n",
        "# Entrada\n",
        "temperatura_celsius = float(input(\"Digite a temperatura em Celsius: \"))\n",
        "\n",
        "# Processo\n",
        "temperatura_fahrenheit = (9 / 5) * temperatura_celsius + 32\n",
        "\n",
        "# Saída\n",
        "print(f\"Temperatura em Fahrenheit: {temperatura_fahrenheit}\")\n",
        "```\n",
        "\n",
        "> **Instrução: `float()`**\n",
        ">\n",
        "> A instrução `float()` converte do tipo string para o tipo float o valor recebido como entrada.\n"
      ]
    },
    {
      "cell_type": "code",
      "execution_count": null,
      "id": "f32ba378-13ae-474d-b997-312d82e91c18",
      "metadata": {
        "tags": [],
        "id": "f32ba378-13ae-474d-b997-312d82e91c18"
      },
      "outputs": [],
      "source": [
        "# Entrada\n",
        "temperatura_celsius = float(input(\"Digite a temperatura em Celsius: \"))\n",
        "\n",
        "# Processo\n",
        "temperatura_fahrenheit = (9 / 5) * temperatura_celsius + 32\n",
        "\n",
        "# Saída\n",
        "print(f\"Temperatura em Fahrenheit: {temperatura_fahrenheit:.2f}\")"
      ]
    },
    {
      "cell_type": "code",
      "execution_count": null,
      "id": "a98daa8f-34d1-4067-b442-ad6b6b7aea7e",
      "metadata": {
        "id": "a98daa8f-34d1-4067-b442-ad6b6b7aea7e"
      },
      "outputs": [],
      "source": []
    },
    {
      "cell_type": "markdown",
      "id": "221688a0-caae-402b-81fb-4d2d2aa68ad5",
      "metadata": {
        "id": "221688a0-caae-402b-81fb-4d2d2aa68ad5"
      },
      "source": [
        "---\n",
        "### Estrutura de dados: Boleanos\n",
        "\n",
        "Os booleanos são um tipo de dado que pode ter um de dois valores possíveis: `True` ou `False`. Em Python, os booleanos são usados para representar a verdade ou falsidade de uma expressão e são muito utilizados em estruturas condicionais e loops.\n",
        "\n",
        "**Representações (literais) do tipo de dados `booleano`**:\n",
        "- `True`\n",
        "- `False`\n",
        "\n",
        "> Atenção: atentar que apenas a `primeira letra é maiúscula`.\n",
        "\n",
        "\n",
        "**Principais Operações com booleanos**\n",
        "\n",
        "| Valor               | Instrução           | Operação            | Operador/Função|\n",
        "|---------------------|---------------------|---------------------|---------------- |\n",
        "| False               | True and False      | Conjunção           | and             |\n",
        "| True                | True or False       | Disjunção           | or              |\n",
        "| False               | not True            | Negação             | not             |\n",
        "| False               | True == False       | Igualdade           | ==              |\n",
        "| True                | True != False       | Diferença           | !=              |\n",
        "| False               | all ( [True, True, False] )       | Todos `True`?        | all( )          |\n",
        "| True                | any ( [True, False, False] )       | Algum `True`?        | any( )          |\n",
        "\n",
        "\n",
        "\n",
        "| A     | B     | A and B |      \n",
        "|-------|-------|---------|   \n",
        "| True  | True  | True    |\n",
        "| True  | False | False   |\n",
        "| False | True  | False   |\n",
        "| False | False | False   |\n",
        "\n",
        "| A     | B     | A or B  |\n",
        "|-------|-------|---------|\n",
        "| True  | True  | True    |\n",
        "| True  | False | True    |\n",
        "| False | True  | True    |\n",
        "| False | False | False   |\n",
        "\n",
        "\n",
        "| A     | not A  |\n",
        "|-------|--------|\n",
        "| True  | False  |\n",
        "| False | True   |\n",
        "\n"
      ]
    },
    {
      "cell_type": "code",
      "execution_count": null,
      "id": "1cfaffcb-0ca4-41f2-b957-b8497f075ac5",
      "metadata": {
        "id": "1cfaffcb-0ca4-41f2-b957-b8497f075ac5"
      },
      "outputs": [],
      "source": []
    },
    {
      "cell_type": "markdown",
      "id": "5883a814-5b72-4bc1-aa6e-3906ae0424b3",
      "metadata": {
        "tags": [],
        "id": "5883a814-5b72-4bc1-aa6e-3906ae0424b3"
      },
      "source": [
        "\n",
        "**Exemplo :Elabore a tabela verdade de `AND`**\n",
        "\n",
        "```python\n",
        "# Tabela Verdade de AND\n",
        "print(\"Tabela Verdade de AND:\")\n",
        "print(\"True and True\", True and True)\n",
        "print(\"True and False =\", True and False)\n",
        "print(\"False and True =\", False and True)\n",
        "print(\"False and False =\", False and False)\n",
        "```\n"
      ]
    },
    {
      "cell_type": "code",
      "execution_count": null,
      "id": "12ca08be-8772-4478-878c-d4bd381e2799",
      "metadata": {
        "id": "12ca08be-8772-4478-878c-d4bd381e2799"
      },
      "outputs": [],
      "source": []
    },
    {
      "cell_type": "markdown",
      "id": "fa542fb1-715b-4d79-814a-d7b20e5946cc",
      "metadata": {
        "tags": [],
        "id": "fa542fb1-715b-4d79-814a-d7b20e5946cc"
      },
      "source": [
        "Atentar para as diversas formas que vimos até agora para imprimir na tela variáveis usando o comando `print ( )`\n",
        "```python\n",
        "\n",
        "print(\"True and True: \", True and True)\n",
        "\n",
        "print(\"True and True: \" + str(True and True))\n",
        "\n",
        "print(f\"True and True:  {True and True}\")\n",
        "```"
      ]
    },
    {
      "cell_type": "code",
      "execution_count": null,
      "id": "a1999be4-1512-45fc-b83e-c94d8245cc89",
      "metadata": {
        "tags": [],
        "id": "a1999be4-1512-45fc-b83e-c94d8245cc89"
      },
      "outputs": [],
      "source": []
    }
  ],
  "metadata": {
    "kernelspec": {
      "display_name": "Python 3 (ipykernel)",
      "language": "python",
      "name": "python3"
    },
    "language_info": {
      "codemirror_mode": {
        "name": "ipython",
        "version": 3
      },
      "file_extension": ".py",
      "mimetype": "text/x-python",
      "name": "python",
      "nbconvert_exporter": "python",
      "pygments_lexer": "ipython3",
      "version": "3.10.5"
    },
    "colab": {
      "provenance": []
    }
  },
  "nbformat": 4,
  "nbformat_minor": 5
}