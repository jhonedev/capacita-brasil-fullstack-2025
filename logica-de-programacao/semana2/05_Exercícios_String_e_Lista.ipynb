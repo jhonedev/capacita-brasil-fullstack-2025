{
  "cells": [
    {
      "cell_type": "markdown",
      "id": "ca6e7f1e-8919-49ec-bc49-991fdefab01b",
      "metadata": {
        "id": "ca6e7f1e-8919-49ec-bc49-991fdefab01b"
      },
      "source": [
        "## Aula 2 - Exercícios em Sala de Aula"
      ]
    },
    {
      "cell_type": "markdown",
      "id": "f75250c6-caa0-41a2-9966-9a06b664dcab",
      "metadata": {
        "id": "f75250c6-caa0-41a2-9966-9a06b664dcab"
      },
      "source": [
        "## 2.1 - Exercícios sobre estrutura de dados tipo `String`"
      ]
    },
    {
      "cell_type": "markdown",
      "id": "4fa429c8-c3dd-4a16-9955-07805695a0e3",
      "metadata": {
        "id": "4fa429c8-c3dd-4a16-9955-07805695a0e3"
      },
      "source": [
        "### Exercício 1\n",
        "\n",
        "Criar uma variável chamada `cultura` que deverá conter o nome \"Milho\" e em seguida concatená-la com a palavra \"Plantado\" para formar a string \"Milho Plantado\".\n",
        "\n",
        "<details>\n",
        "  <summary>Clique para verificar a resposta</summary>\n",
        "\n",
        "<br>\n",
        "\n",
        "```python\n",
        "cultura = \"Milho\"\n",
        "resultado = cultura + \" Plantado\"\n",
        "print(resultado)\n",
        "```\n",
        "<br>\n",
        "\n",
        "`Explicação`: Para concatenar duas strings, você pode usar o operador `+`. Assim, `cultura + \" Plantado\"` resultará na string \"Milho Plantado\".\n",
        "\n",
        "</details>"
      ]
    },
    {
      "cell_type": "code",
      "execution_count": null,
      "id": "07b437e5-4ce1-4c46-9b78-42b64ce85a11",
      "metadata": {
        "id": "07b437e5-4ce1-4c46-9b78-42b64ce85a11",
        "tags": []
      },
      "outputs": [],
      "source": [
        "# Crie uma string chamada 'cultura' contendo o nome \"Milho\" e concatene com a palavra \"Plantado\"\n",
        "cultura = 'milho'\n",
        "resultado = cultura + _________\n",
        "print(resultado)"
      ]
    },
    {
      "cell_type": "markdown",
      "id": "1c22218b-03a8-47a0-8a3f-d46618d9e938",
      "metadata": {
        "id": "1c22218b-03a8-47a0-8a3f-d46618d9e938"
      },
      "source": [
        "---\n",
        "\n",
        "### Exercício 2\n",
        "\n",
        "Criar uma variável chamada `fruta` com o valor \"Laranja\" e utilizar a função `len()` para encontrar o número de caracteres na string.\n",
        "\n",
        "<details>\n",
        "  <summary>Clique para verificar a resposta</summary>\n",
        "\n",
        "<br>\n",
        "    \n",
        "```python\n",
        "fruta = \"Laranja\"\n",
        "tamanho = len(fruta)\n",
        "print(tamanho)\n",
        "```\n",
        "<br>\n",
        "\n",
        "`Explicação`: A função `len()` retorna o número de caracteres em uma string.\n",
        "\n",
        "</details>\n"
      ]
    },
    {
      "cell_type": "code",
      "execution_count": null,
      "id": "8e8f6b8a-d340-41dc-a006-a4f0d885a745",
      "metadata": {
        "id": "8e8f6b8a-d340-41dc-a006-a4f0d885a745",
        "tags": []
      },
      "outputs": [],
      "source": [
        "fruta = __Laranja\"\n",
        "tamanho = ____(____)\n",
        "print(tamanho)"
      ]
    },
    {
      "cell_type": "markdown",
      "id": "5a201b7c-dd99-47ef-b304-6a5608d4105c",
      "metadata": {
        "id": "5a201b7c-dd99-47ef-b304-6a5608d4105c"
      },
      "source": [
        "### Exercício 3\n",
        "\n",
        "Criar uma variável chamada `clima` com o valor \"Chuvoso\" e transformá-la toda para letras maiúsculas.\n",
        "\n",
        "<details>\n",
        "  <summary>Clique para verificar a resposta</summary>\n",
        "\n",
        "<br>\n",
        "\n",
        "```python\n",
        "clima = \"Chuvoso\"\n",
        "resultado = clima.upper()\n",
        "print(resultado)\n",
        "```\n",
        "<br>\n",
        "\n",
        "`Explicação`: O método `.upper()` transforma todos os caracteres da string para maiúsculas.\n",
        "\n",
        "</details>"
      ]
    },
    {
      "cell_type": "code",
      "execution_count": null,
      "id": "711126ad-cfdd-4203-969d-a843af76a3e7",
      "metadata": {
        "id": "711126ad-cfdd-4203-969d-a843af76a3e7"
      },
      "outputs": [],
      "source": [
        "# Crie uma string chamada 'clima' com o valor \"Chuvoso\" e transforme-a toda para letras maiúsculas\n",
        "clima = \"Chuvoso\"\n",
        "resultado __ clima.______()\n",
        "print(resultado)"
      ]
    },
    {
      "cell_type": "markdown",
      "id": "bb371596-1025-4051-b310-f68fbbef1fbb",
      "metadata": {
        "id": "bb371596-1025-4051-b310-f68fbbef1fbb"
      },
      "source": [
        "### Exercício 4\n",
        "\n",
        "Criar uma string chamada `solo` com o valor \"Solo Arenoso\". Use o método `replace()` para trocar \"Arenoso\" por \"Pedregoso\".\n",
        "\n",
        "<details>\n",
        "  <summary>Clique para verificar a resposta</summary>\n",
        "\n",
        "<br>\n",
        "\n",
        "```python\n",
        "solo = \"Solo Arenoso\"\n",
        "solo = solo.replace(\"Arenoso\", \"Pedregoso\")\n",
        "print(solo)\n",
        "```\n",
        "<br>\n",
        "\n",
        "`Explicação`: O método `replace()` troca todas as ocorrências do primeiro argumento pelo segundo argumento na string.\n",
        "\n",
        "</details>"
      ]
    },
    {
      "cell_type": "code",
      "execution_count": null,
      "id": "7d88ea10-a18c-4d2b-8204-abd4d7db6507",
      "metadata": {
        "id": "7d88ea10-a18c-4d2b-8204-abd4d7db6507",
        "tags": []
      },
      "outputs": [],
      "source": [
        "solo __ \"Solo Arenoso\"\n",
        "solo = solo._______(\"Arenoso\", _______)\n",
        "print(solo)"
      ]
    },
    {
      "cell_type": "markdown",
      "id": "4847cf1f-acee-4050-b6bd-49bbb7eaebb2",
      "metadata": {
        "id": "4847cf1f-acee-4050-b6bd-49bbb7eaebb2"
      },
      "source": [
        "### Exercício 5\n",
        "\n",
        "Criar uma variável chamada `destino` com o valor \"Paris\" e uma variável `preco` com o valor 1200. Use `f-string` para imprimir \"A viagem para Paris custa 1200 dólares\". Lembre-se que as `f-strings` são utilizadas para intercalar várias string.\n",
        "\n",
        "<details>\n",
        "  <summary>Clique para verificar a resposta  </summary>\n",
        "\n",
        "<br>\n",
        "   \n",
        "```python\n",
        "destino = \"Paris\"\n",
        "preco = 1200\n",
        "print(f\"A viagem para {destino} custa {preco} dólares\")\n",
        "```\n",
        "\n",
        "<br>\n",
        "\n",
        "`Explicação`: Usamos f-string para formatar a string, incluindo as variáveis `destino` e `preco` dentro das chaves `{}`.\n",
        "    \n",
        "</details>"
      ]
    },
    {
      "cell_type": "code",
      "execution_count": null,
      "id": "4a9e7562-8e8d-4d95-aaf0-9aba121e0c2f",
      "metadata": {
        "id": "4a9e7562-8e8d-4d95-aaf0-9aba121e0c2f"
      },
      "outputs": [],
      "source": [
        "# Crie uma variável chamada 'destino' com o valor \"Paris\" e uma variável 'preco' com o valor 1200. Use f-string para imprimir \"A viagem para Paris custa 1200 dólares\"\n",
        "destino = \"Paris\"\n",
        "preco = 1200\n",
        "print(f\"A viagem para {____} custa {____} dólares\")"
      ]
    },
    {
      "cell_type": "markdown",
      "id": "d3d79ad8-d5ce-42e1-b854-446126c5e289",
      "metadata": {
        "id": "d3d79ad8-d5ce-42e1-b854-446126c5e289",
        "tags": []
      },
      "source": [
        "---\n",
        "### Exercício 6\n",
        "\n",
        "Neste exercício, você deve formatar o nome de um aluno e sua nota para exibição utilizando f-string.\n",
        "\n",
        "<details>\n",
        "  <summary>Clique para verificar a resposta  </summary>\n",
        "\n",
        "<br>\n",
        "\n",
        "``` python\n",
        "nome = \"Carlos\"\n",
        "nota = 89\n",
        "resultado = f\"O aluno {nome} obteve a nota {nota}.\"\n",
        "print(resultado)\n",
        "```\n",
        "<br>\n",
        "\n",
        "`Explicação`: Utilizando `f-string`, podemos inserir variáveis diretamente dentro de uma string colocando-as entre chaves `{}`.\n",
        "    \n",
        "</details>"
      ]
    },
    {
      "cell_type": "code",
      "execution_count": null,
      "id": "174adab8-bc2c-455c-a8ce-dffffc8da4e1",
      "metadata": {
        "id": "174adab8-bc2c-455c-a8ce-dffffc8da4e1"
      },
      "outputs": [],
      "source": [
        "# Formate o nome do aluno e sua nota usando f-string\n",
        "nome __ \"Carlos\"\n",
        "nota = 89\n",
        "resultado = __\"O aluno ___ obteve a nota ___.\"\n",
        "print(resultado)"
      ]
    },
    {
      "cell_type": "markdown",
      "id": "e3d10cef-d207-4974-b5e3-704e2c646405",
      "metadata": {
        "id": "e3d10cef-d207-4974-b5e3-704e2c646405"
      },
      "source": [
        "---\n",
        "\n",
        "### Exercício 7\n",
        "\n",
        "Formate o nome da escola e sua localização utilizando f-string.\n",
        "\n",
        "<details>\n",
        "  <summary>Clique para verificar a resposta  </summary>\n",
        "\n",
        "<br>\n",
        "\n",
        "``` python\n",
        "escola = \"Escola Estadual João XXIII\"\n",
        "localizacao = \"São Paulo\"\n",
        "info = f\"A {escola} está localizada em {localizacao}.\"\n",
        "print(info)\n",
        "```\n",
        "<br>\n",
        "\n",
        "`Explicação`: Com o `f-string`, é simples incluir o nome da escola e sua localização na string.\n",
        "    \n",
        "</details>\n"
      ]
    },
    {
      "cell_type": "code",
      "execution_count": null,
      "id": "46d143a4-e95b-4553-8cbc-d1cab623c9c9",
      "metadata": {
        "id": "46d143a4-e95b-4553-8cbc-d1cab623c9c9"
      },
      "outputs": [],
      "source": [
        "# Formate o nome da escola e sua localização usando f-string\n",
        "escola = \"Escola Estadual João XXIII___\n",
        "localizacao __ \"São Paulo\"\n",
        "info = f\"A ___ está localizada em ___.\"\n",
        "print(info)"
      ]
    },
    {
      "cell_type": "markdown",
      "id": "e2f1dc55-93e0-4967-972a-8cdb1a24bb9a",
      "metadata": {
        "id": "e2f1dc55-93e0-4967-972a-8cdb1a24bb9a"
      },
      "source": [
        "---\n",
        "### Exercício 8\n",
        "\n",
        "Neste exercício, você deve encontrar a posição inicial do nome do imposto 'ISS'.\n",
        "\n",
        "<details>\n",
        "  <summary>Clique para verificar a resposta  </summary>\n",
        "\n",
        "<br>\n",
        "\n",
        "``` python\n",
        "impostos = \"ICMS, IPI, ISS, IOF\"\n",
        "posicao = impostos.find(\"ISS\")\n",
        "print(posicao)\n",
        "```\n",
        "<br>\n",
        "\n",
        "`Explicação`: Utilizamos o método `find()` para identificar a posição inicial da substring \"ISS\" na string \"impostos\". Retorna o índice da primeira ocorrência ou -1 se não encontrar.\n",
        "    \n",
        "</details>\n"
      ]
    },
    {
      "cell_type": "code",
      "execution_count": null,
      "id": "acd50ba7-24ca-44dd-a27f-bd53ba408bbb",
      "metadata": {
        "id": "acd50ba7-24ca-44dd-a27f-bd53ba408bbb"
      },
      "outputs": [],
      "source": [
        "# Encontre a posição do imposto 'ISS' na string\n",
        "impostos = \"ICMS, IPI, ISS, IOF\"\n",
        "posicao = impostos._____(\"___\"__\n",
        "print(posicao)\n"
      ]
    },
    {
      "cell_type": "markdown",
      "id": "a21f207d-fbe2-4af1-a4f6-07969fe408c2",
      "metadata": {
        "id": "a21f207d-fbe2-4af1-a4f6-07969fe408c2"
      },
      "source": [
        "---\n",
        "\n",
        "### Exercício 9\n",
        "\n",
        "Neste exercício, você deve obter o ano contido na variável tipo string `taxa`.\n",
        "\n",
        "<details>\n",
        "  <summary>Clique para verificar a resposta  </summary>\n",
        "\n",
        "<br>\n",
        "\n",
        "``` python\n",
        "taxa = \"IRRF2023\"\n",
        "ano_taxa = taxa[4:]\n",
        "print(ano_taxa)\n",
        "```\n",
        "<br>\n",
        "\n",
        "`Explicação`: A indexação e fatiamento de strings permitem que se obtenha um subset da string original. Aqui, `taxa[4:]` pega todos os caracteres a partir do índice 4.\n",
        "    \n",
        "</details>"
      ]
    },
    {
      "cell_type": "code",
      "execution_count": null,
      "id": "9b2d1bf3-ac3a-46c2-ad41-721cb4efb525",
      "metadata": {
        "id": "9b2d1bf3-ac3a-46c2-ad41-721cb4efb525",
        "tags": []
      },
      "outputs": [],
      "source": [
        "# Obtenha os últimos 4 caracteres da string\n",
        "taxa = \"IRRF2023\"\n",
        "ano_taxa = taxa[___:]\n",
        "print(ano_taxa)\n"
      ]
    },
    {
      "cell_type": "markdown",
      "id": "d77bb0b1-8747-4483-a9f0-620a772ef1e3",
      "metadata": {
        "id": "d77bb0b1-8747-4483-a9f0-620a772ef1e3"
      },
      "source": [
        "---\n",
        "\n",
        "### Exercício 10\n",
        "\n",
        "Neste exercício, verifique se a string termina com o sufixo \"2023\".\n",
        "\n",
        "<details>\n",
        "  <summary>Clique para verificar a resposta  </summary>\n",
        "\n",
        "<br>\n",
        "\n",
        "``` python\n",
        "declaracao = \"Imposto de Renda 2023\"\n",
        "resultado = declaracao.endswith(\"2023\")\n",
        "print(resultado)\n",
        "```\n",
        "<br>\n",
        "\n",
        "`Explicação`: O método `endswith()` verifica se a string termina com o sufixo especificado, retornando `True` ou `False`.\n",
        "    \n",
        "</details>\n"
      ]
    },
    {
      "cell_type": "code",
      "execution_count": null,
      "id": "b77944dc-3b7d-4bd9-9910-37fda7441cc9",
      "metadata": {
        "id": "b77944dc-3b7d-4bd9-9910-37fda7441cc9"
      },
      "outputs": [],
      "source": [
        "# Verifique se a string termina com o sufixo \"2023\"\n",
        "declaracao = \"Imposto de Renda 2023\"\n",
        "resultado = declaracao.______(\"2023\"__\n",
        "print(_________)"
      ]
    },
    {
      "cell_type": "markdown",
      "id": "d513dcbe-94f4-4420-b0ee-90e4be2455c8",
      "metadata": {
        "id": "d513dcbe-94f4-4420-b0ee-90e4be2455c8",
        "tags": []
      },
      "source": [
        "## 2 .2 - Exercícios sobre estrutura de dados tipo `Lista`"
      ]
    },
    {
      "cell_type": "markdown",
      "id": "5de04297-268f-4aec-8a7c-f981b2126d63",
      "metadata": {
        "id": "5de04297-268f-4aec-8a7c-f981b2126d63"
      },
      "source": [
        "---\n",
        "\n",
        "### Exercício 1\n",
        "\n",
        "Criar uma variável lista chamada `destinos_populares` contendo os seguintes destinos turísticos: \"Paris\", \"Nova York\", \"Londres\", \"Tóquio\", \"Sydney\".\n",
        "\n",
        "<details>\n",
        "  <summary>Clique para verificar a resposta</summary>\n",
        "\n",
        "<br>\n",
        "   \n",
        "```python\n",
        "destinos_populares = [\"Paris\", \"Nova York\", \"Londres\", \"Tóquio\", \"Sydney\"]\n",
        "print(destinos_populares)\n",
        "```\n",
        "<br>\n"
      ]
    },
    {
      "cell_type": "code",
      "execution_count": null,
      "id": "a2d5a7ff-4db3-461d-834f-4a43661e7563",
      "metadata": {
        "id": "a2d5a7ff-4db3-461d-834f-4a43661e7563"
      },
      "outputs": [],
      "source": [
        "# Crie uma lista chamada 'destinos_populares' com os destinos \"Paris\", \"Nova York\", \"Londres\", \"Tóquio\", \"Sydney\"\n",
        "destinos_populares = [______, _______, _______, _______, ______]\n",
        "print(destinos_populares)\n"
      ]
    },
    {
      "cell_type": "markdown",
      "id": "d6adeea1-5b36-4857-96fd-8a84b12cfebc",
      "metadata": {
        "id": "d6adeea1-5b36-4857-96fd-8a84b12cfebc"
      },
      "source": [
        "---\n",
        "\n",
        "### Exercício 2\n",
        "\n",
        "Remover o destino \"Tóquio\" da lista `destinos_populares` criada no Exercício anterior.\n",
        "\n",
        "<details>\n",
        "  <summary>Clique para verificar a resposta</summary>\n",
        "\n",
        "<br>\n",
        "\n",
        "```python\n",
        "destinos_populares.remove(\"Tóquio\")\n",
        "print(destinos_populares)\n",
        "```\n",
        "\n",
        "<br>\n",
        "\n",
        "`Explicação`: Utilizamos o método `.remove()` para remover um elemento específico da lista.\n",
        "\n",
        "</details>"
      ]
    },
    {
      "cell_type": "code",
      "execution_count": null,
      "id": "78612e0c-04c5-4141-8ad9-6880bf656148",
      "metadata": {
        "id": "78612e0c-04c5-4141-8ad9-6880bf656148"
      },
      "outputs": [],
      "source": [
        "destinos_populares._____(\"Tóquio\")\n",
        "print(destinos_populares)"
      ]
    },
    {
      "cell_type": "markdown",
      "id": "0b9c960c-b1cd-4d65-8002-f6fab33b2ddc",
      "metadata": {
        "id": "0b9c960c-b1cd-4d65-8002-f6fab33b2ddc"
      },
      "source": [
        "---\n",
        "\n",
        "### Exercício 3\n",
        "\n",
        "Temos uma lista de hotéis chamada `hoteis` contendo: \"Hilton\", \"Sheraton\", \"Marriott\". Adicione o hotel \"Ibis\" ao final da lista.\n",
        "\n",
        "<details>\n",
        "  <summary>Clique para verificar a resposta</summary>\n",
        "\n",
        "<br>\n",
        "\n",
        "```python\n",
        "hoteis = [\"Hilton\", \"Sheraton\", \"Marriott\"]\n",
        "hoteis.append(\"Ibis\")\n",
        "print(hoteis)\n",
        "```\n",
        "\n",
        "<br>\n",
        "\n",
        "`Explicação`: Utilizamos o método `.append()` para adicionar um elemento ao final da lista.\n",
        "\n",
        "</details>\n"
      ]
    },
    {
      "cell_type": "code",
      "execution_count": null,
      "id": "1458b0d4-8714-4118-95c7-eafb6804130d",
      "metadata": {
        "id": "1458b0d4-8714-4118-95c7-eafb6804130d",
        "tags": []
      },
      "outputs": [],
      "source": [
        "hoteis = [\"Hilton\", \"Sheraton\", \"Marriott\"]\n",
        "hoteis._____(\"_____\")\n",
        "print(hoteis)"
      ]
    },
    {
      "cell_type": "markdown",
      "id": "7145182c-42ea-4b26-9606-599420735e43",
      "metadata": {
        "id": "7145182c-42ea-4b26-9606-599420735e43"
      },
      "source": [
        "---\n",
        "\n",
        "### Exercício 4\n",
        "\n",
        "Neste exercício, você deve concatenar duas listas. A primeira lista chamada 'diretores' contém os nomes de diretores de escolas primárias. A segunda lista chamada 'coordenadores' contém os nomes de coordenadores dessas escolas. Concatene as duas listas em uma nova lista chamada 'gestores'.\n",
        "\n",
        "<details>\n",
        "  <summary>Clique para verificar a resposta  </summary>\n",
        "\n",
        "<br>\n",
        "   \n",
        "```python\n",
        "diretores = ['Ana Silva', 'Paulo Gomes']\n",
        "coordenadores = ['Ricardo Neves', 'Beatriz Souza']\n",
        "gestores = diretores + coordenadores\n",
        "print(gestores)\n",
        "```\n",
        "<br>\n",
        "\n",
        "`Explicação`: Para concatenar listas, você pode simplesmente usar o operador `+`.\n",
        "    \n",
        "</details>"
      ]
    },
    {
      "cell_type": "code",
      "execution_count": null,
      "id": "974eb8f5-d397-443b-9ead-cfc1e1120ed7",
      "metadata": {
        "id": "974eb8f5-d397-443b-9ead-cfc1e1120ed7"
      },
      "outputs": [],
      "source": [
        "# Concatene as listas 'diretores' e 'coordenadores' para criar a lista 'gestores'\n",
        "diretores = ['Ana Silva', 'Paulo Gomes']\n",
        "coordenadores = ['Ricardo Neves', 'Beatriz Souza']\n",
        "gestores = diretores ___  ___\n",
        "print(gestores)"
      ]
    },
    {
      "cell_type": "markdown",
      "id": "313c6157-36bc-4ff1-85a8-ccb00683add6",
      "metadata": {
        "id": "313c6157-36bc-4ff1-85a8-ccb00683add6"
      },
      "source": [
        "---\n",
        "\n",
        "### Exercício 5\n",
        "\n",
        "Neste exercício, você deve ordenar em ordem alfabética uma lista chamada 'disciplinas' que contém nomes de disciplinas escolares.\n",
        "\n",
        "<details>\n",
        "  <summary>Clique para verificar a resposta  </summary>\n",
        "\n",
        "<br>\n",
        "\n",
        "```python\n",
        "disciplinas = ['História', 'Matemática', 'Geografia', 'Português']\n",
        "disciplinas.sort()\n",
        "print(disciplinas)\n",
        "```\n",
        "<br>\n",
        "\n",
        "`Explicação`: Use o método `.sort()` para ordenar uma lista em ordem alfabética.\n",
        "    \n",
        "</details>\n"
      ]
    },
    {
      "cell_type": "code",
      "execution_count": null,
      "id": "e82c4387-158c-43d1-b7bc-536f6e44a14c",
      "metadata": {
        "id": "e82c4387-158c-43d1-b7bc-536f6e44a14c"
      },
      "outputs": [],
      "source": [
        "# Ordene a lista 'disciplinas' em ordem alfabética\n",
        "disciplinas = ['História', 'Matemática', 'Geografia', 'Português']\n",
        "disciplinas.___()\n",
        "print(___________)"
      ]
    },
    {
      "cell_type": "markdown",
      "id": "3e4acd98-a184-4307-b841-50685e1dcc9f",
      "metadata": {
        "id": "3e4acd98-a184-4307-b841-50685e1dcc9f",
        "tags": []
      },
      "source": [
        "---\n",
        "\n",
        "### Exercício 6\n",
        "\n",
        "Neste exercício, você deve encontrar o índice de um professor específico chamado 'Carlos Medeiros' na lista 'docentes'.\n",
        "\n",
        "<details>\n",
        "  <summary>Clique para verificar a resposta  </summary>\n",
        "\n",
        "<br>\n",
        "\n",
        "```python\n",
        "docentes = ['Lúcia Barros', 'Carlos Medeiros', 'Roberto Silva']\n",
        "indice = docentes.index('Carlos Medeiros')\n",
        "print(indice)\n",
        "```\n",
        "<br>\n",
        "\n",
        "`Explicação`: Use o método `.index(item)` para obter o índice do primeiro ocorrente de um item na lista.\n",
        "    \n",
        "</details>\n"
      ]
    },
    {
      "cell_type": "code",
      "execution_count": null,
      "id": "ea46bf2e-4482-42da-8496-b031d6d8b0c1",
      "metadata": {
        "id": "ea46bf2e-4482-42da-8496-b031d6d8b0c1"
      },
      "outputs": [],
      "source": [
        "# Encontre o índice do professor 'Carlos Medeiros' na lista 'docentes'\n",
        "docentes = ['Lúcia Barros', 'Carlos Medeiros', 'Roberto Silva']\n",
        "indice = docentes.______('Carlos Medeiros')\n",
        "print(indice)"
      ]
    },
    {
      "cell_type": "markdown",
      "id": "5adc15ae-0485-40a3-9a4b-b1fff9cebc51",
      "metadata": {
        "id": "5adc15ae-0485-40a3-9a4b-b1fff9cebc51"
      },
      "source": [
        "---\n",
        "\n",
        "### Exercício 7\n",
        "\n",
        "Neste exercício, você deve extrair uma sublista da lista 'alunos' que contém os nomes dos alunos do terceiro ao quinto.\n",
        "\n",
        "<details>\n",
        "  <summary>Clique para verificar a resposta  </summary>\n",
        "\n",
        "<br>\n",
        "\n",
        "```python\n",
        "alunos = ['Ana', 'João', 'Pedro', 'Márcia', 'Eduardo', 'Luísa']\n",
        "sublista = alunos[2:5]\n",
        "print(sublista)\n",
        "```\n",
        "<br>\n",
        "\n",
        "`Explicação`: Use a técnica de fatiamento (slicing) para extrair uma sublista. Lembre-se que a indexação começa em 0.\n",
        "    \n",
        "</details>\n"
      ]
    },
    {
      "cell_type": "code",
      "execution_count": null,
      "id": "b927e2f7-76ca-42b6-8383-a3469be244fd",
      "metadata": {
        "id": "b927e2f7-76ca-42b6-8383-a3469be244fd"
      },
      "outputs": [],
      "source": [
        "# Extraia uma sublista da lista 'alunos' do terceiro ao quinto aluno\n",
        "alunos = ['Ana', 'João', 'Pedro', 'Márcia', 'Eduardo', 'Luísa']\n",
        "sublista = alunos[___:___]\n",
        "print(sublista)"
      ]
    },
    {
      "cell_type": "markdown",
      "id": "99efb0ca-c709-4ca3-a65f-978e80e534ee",
      "metadata": {
        "id": "99efb0ca-c709-4ca3-a65f-978e80e534ee"
      },
      "source": [
        "---\n",
        "\n",
        "### Exercício 8\n",
        "\n",
        "Neste exercício, verifique se o professor 'Renata Lopes' está presente na lista 'professores'.\n",
        "\n",
        "<details>\n",
        "  <summary>Clique para verificar a resposta  </summary>\n",
        "\n",
        "<br>\n",
        "\n",
        "```python\n",
        "professores = ['Antônio Moura', 'Renata Lopes', 'Vitória Pires']\n",
        "esta_presente = 'Renata Lopes' in professores\n",
        "print(esta_presente)\n",
        "```\n",
        "<br>\n",
        "\n",
        "`Explicação`: Use o operador `in` para verificar a presença de um item em uma lista. Ele retorna `True` se o item estiver presente e `False` caso contrário.\n",
        "    \n",
        "</details>\n"
      ]
    },
    {
      "cell_type": "code",
      "execution_count": null,
      "id": "33d77182-80c8-4c85-bd19-26cb78386f85",
      "metadata": {
        "id": "33d77182-80c8-4c85-bd19-26cb78386f85"
      },
      "outputs": [],
      "source": [
        "# Verifique se 'Renata Lopes' está na lista 'professores'\n",
        "professores = ['Antônio Moura', 'Renata Lopes', 'Vitória Pires']\n",
        "esta_presente = 'Renata Lopes' ___ professores\n",
        "print(______________)"
      ]
    },
    {
      "cell_type": "markdown",
      "id": "ad624e5b-ca2a-4305-9a9f-4cee253b10ea",
      "metadata": {
        "id": "ad624e5b-ca2a-4305-9a9f-4cee253b10ea"
      },
      "source": [
        "---\n",
        "\n",
        "### Exercício 9\n",
        "\n",
        "Dada a lista `pacientes` contendo os tempos que pacientes aguardaram para serem atendidos `[23, 45, 17, 30]`, calcular o tempo médio de espera.\n",
        "\n",
        "<details>\n",
        "  <summary>Clique para verificar a resposta</summary>\n",
        "\n",
        "<br>\n",
        "\n",
        "```python\n",
        "pacientes = [23, 45, 17, 30]\n",
        "media_espera = sum(pacientes) / len(pacientes)\n",
        "print(media_espera)\n",
        "```\n",
        "\n",
        "<br>\n",
        "\n",
        "`Explicação`: Usamos a função `sum()` para somar todos os tempos e `len()` para contar o número de elementos na lista. A média é calculada dividindo a soma pelo número de elementos.\n",
        "\n",
        "</details>\n"
      ]
    },
    {
      "cell_type": "code",
      "execution_count": null,
      "id": "91c89b52-728e-49aa-ba42-41e13dbe4c74",
      "metadata": {
        "id": "91c89b52-728e-49aa-ba42-41e13dbe4c74",
        "tags": []
      },
      "outputs": [],
      "source": [
        "# Calcule o tempo médio de espera da lista 'pacientes'\n",
        "____________ = [23, 45, 17, 30]\n",
        "media_espera = ____ / ____\n",
        "print(media_espera)"
      ]
    },
    {
      "cell_type": "markdown",
      "id": "f08333b4-bcbe-4d99-a400-926437c9babc",
      "metadata": {
        "id": "f08333b4-bcbe-4d99-a400-926437c9babc"
      },
      "source": [
        "---\n",
        "\n",
        "### Exercício 10\n",
        "\n",
        "Dada uma lista chamada 'notas', retorne a maior e a menor nota dos alunos.\n",
        "\n",
        "<details>\n",
        "  <summary>Clique para verificar a resposta  </summary>\n",
        "\n",
        "<br>\n",
        "\n",
        "```python\n",
        "notas = [75, 85, 90, 60, 78, 88]\n",
        "maior_nota = max(notas)\n",
        "menor_nota = min(notas)\n",
        "print(\"Maior nota:\", maior_nota)\n",
        "print(\"Menor nota:\", menor_nota)\n",
        "```\n",
        "<br>\n",
        "\n",
        "`Explicação`: As funções `max()` e `min()` retornam, respectivamente, o maior e o menor valor de uma lista.\n",
        "    \n",
        "</details>"
      ]
    },
    {
      "cell_type": "code",
      "execution_count": null,
      "id": "d3ae658a-175e-48d6-9cb4-75efbbd63488",
      "metadata": {
        "id": "d3ae658a-175e-48d6-9cb4-75efbbd63488"
      },
      "outputs": [],
      "source": [
        "# Retorne a maior e a menor nota da lista 'notas'\n",
        "_______ = [75, 85, 90, 60, 78, 88]\n",
        "maior_nota = ___(notas)\n",
        "menor_nota = ___(notas)\n",
        "print(\"Maior nota:\", __________)\n",
        "print(\"Menor nota:\", __________)"
      ]
    }
  ],
  "metadata": {
    "colab": {
      "provenance": []
    },
    "kernelspec": {
      "display_name": "Python 3 (ipykernel)",
      "language": "python",
      "name": "python3"
    },
    "language_info": {
      "codemirror_mode": {
        "name": "ipython",
        "version": 3
      },
      "file_extension": ".py",
      "mimetype": "text/x-python",
      "name": "python",
      "nbconvert_exporter": "python",
      "pygments_lexer": "ipython3",
      "version": "3.10.5"
    }
  },
  "nbformat": 4,
  "nbformat_minor": 5
}